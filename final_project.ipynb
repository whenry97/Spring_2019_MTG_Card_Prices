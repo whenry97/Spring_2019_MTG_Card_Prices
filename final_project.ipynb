{
 "cells": [
  {
   "cell_type": "markdown",
   "metadata": {},
   "source": [
    "## Name: Billy Henry\n",
    "## Date: 5/8/2019\n",
    "## Class: CSC-223, Spring 2019\n",
    "## Final Project\n",
    "## SOURCE: api.scryfall.com : Used to generate the relevant datasets in .csv format."
   ]
  },
  {
   "cell_type": "markdown",
   "metadata": {},
   "source": [
    "## Introduction:\n",
    "  Magic the Gathering is a strategy card game that was created in 1993 by Richard Garfield and published by Wizards of the Coast. The game is still more popular than ever today, more than 25 years after it's creation. It can be played with 2 or more players, and the goal is to decrease your opponent's starting life total to 0 in order to win. There are other various ways of winning, with some cards having other win conditions in their text, but the main way to win is by attacking your opponent with 'creature' cards and using various other spells to outplay them and gain advantage. The game has gained even more exposure with the launch of Magic Arena, an online version of the game where you can play against opponents with virtual versions of the paper cards. \n",
    "  \n",
    "  I originally started playing Magic in 2015, but took a few years off and started playing both the online game and in paper again last December. The game is competitive, strategic, and rewarding when you play well. One pretty large aspect of the game is the secondary market for cards; I am not sure if Wizards of the Coast intended for their products to be sold at higher prices on the secondary market, but I am sure it benefits their profits. This secondary market is where many Magic players buy the necessary single cards for their decks. You could just play the lottery by purchasing hundreds of booster packs of cards and hoping to get the rares and cards you need, but who has the money for all of that? \n",
    "  \n",
    "  I plan to analyze some of the aspects of the 'singles market' for Magic the Gathering cards, along with trying my best to explain what the cards are and what they mean for those who are not familiar. What are the most expensive cards and why? Is it because they are exceptionally good cards, because they are more rare than others, or some other reason? Are there some types of cards that are more powerful/favored than others? Let's take a look:\n",
    "  \n",
    "  "
   ]
  },
  {
   "cell_type": "markdown",
   "metadata": {},
   "source": [
    "### Import the functions needed for this study."
   ]
  },
  {
   "cell_type": "code",
   "execution_count": 1,
   "metadata": {},
   "outputs": [],
   "source": [
    "import numpy as np\n",
    "import pandas as pd\n",
    "import matplotlib.pyplot as plt\n",
    "%matplotlib inline\n",
    "\n",
    "# http://api.scryfall.com/cards/search?q=cmc:7&format=csv : Default URL for Scryfall api"
   ]
  },
  {
   "cell_type": "markdown",
   "metadata": {},
   "source": [
    "### Read all of the .csv files of our data sets into DataFrames"
   ]
  },
  {
   "cell_type": "code",
   "execution_count": 2,
   "metadata": {},
   "outputs": [],
   "source": [
    "df1 = pd.read_csv('top_standard.csv')\n",
    "df1 = df1.set_index('set')\n",
    "df2 = pd.read_csv('top_commander.csv')\n",
    "df2 = df2.set_index('set')\n",
    "df3 = pd.read_csv('top_modern.csv')\n",
    "df3 = df3.set_index('set')"
   ]
  },
  {
   "cell_type": "markdown",
   "metadata": {},
   "source": [
    "### Notes on Data:\n",
    "- All .csv files are created from scryfall.com. They have created an API that allows searching through a database of every Magic card ever printed. I am able to enter any search filter that I may need to get the specified cards, and export that list to a .csv file to be read in here.\n",
    "\n",
    "- We will be looking at the top 10 most expensive cards from the 3 major playing formats: Standard, Commander, and Modern.\n",
    "\n",
    "- Each card has a few attributes that will be displayed:\n",
    "    - Rarity\n",
    "        - (M)ythic Rare\n",
    "        - (R)are\n",
    "        - (U)ncommon\n",
    "        - (C)ommon\n",
    "    - Name\n",
    "    - Mana Cost (How many lands need to be tapped to cast the spell) also includes color. If a color is included in the mana cost, only lands that produce that specific color may be used to pay for it. (W)hite, Bl(u)e, (B)lack, (R)ed, (G)reen.\n",
    "    - Converted Mana Cost (or CMC) just adds up the amount of generic colored mana and colored mana needed to cast.\n",
    "    - Type Line is the type of card it is (creature, planeswalker, artifact, enchantment, instant/sorcery, etc)\n",
    "    - USD Price and USD Foil Price: the current median price of the card on the singles market, and the price of the 'foil' variant which are more rare and expensive usually."
   ]
  },
  {
   "cell_type": "markdown",
   "metadata": {},
   "source": [
    "### Filter unnecessary information out of the data frames created from the Scryfall csv files."
   ]
  },
  {
   "cell_type": "code",
   "execution_count": 3,
   "metadata": {},
   "outputs": [],
   "source": [
    "del df1['multiverse_id']\n",
    "del df1['mtgo_id']\n",
    "del df1['collector_number']\n",
    "del df1['artist']\n",
    "del df1['eur_price']\n",
    "del df1['tix_price']\n",
    "del df1['image_uri']\n",
    "del df1['scryfall_uri']\n",
    "\n",
    "del df2['multiverse_id']\n",
    "del df2['mtgo_id']\n",
    "del df2['collector_number']\n",
    "del df2['artist']\n",
    "del df2['eur_price']\n",
    "del df2['tix_price']\n",
    "del df2['image_uri']\n",
    "del df2['scryfall_uri']\n",
    "\n",
    "del df3['multiverse_id']\n",
    "del df3['mtgo_id']\n",
    "del df3['collector_number']\n",
    "del df3['artist']\n",
    "del df3['eur_price']\n",
    "del df3['tix_price']\n",
    "del df3['image_uri']\n",
    "del df3['scryfall_uri']"
   ]
  },
  {
   "cell_type": "markdown",
   "metadata": {},
   "source": [
    "### Top 10 Standard Cards:"
   ]
  },
  {
   "cell_type": "markdown",
   "metadata": {},
   "source": [
    "Standard is the most widely accessible format of Magic the Gathering. It is a continuously rotating format; new sets of cards are released every 3-4 months. These cards are all added into Standard when they release, and then are rotated out after about 21 months. There are always between 5-8 expansion sets in Standard play at a time. In Standard, each player has a 60 card deck consisting of 20-24 land cards and the rest a variety of spells. A max of 2 players may be playing against each other at one time. Below are the top 10 most expensive cards that are currently standard legal as of 5/6/2019:"
   ]
  },
  {
   "cell_type": "code",
   "execution_count": 4,
   "metadata": {},
   "outputs": [
    {
     "data": {
      "text/html": [
       "<div>\n",
       "<style scoped>\n",
       "    .dataframe tbody tr th:only-of-type {\n",
       "        vertical-align: middle;\n",
       "    }\n",
       "\n",
       "    .dataframe tbody tr th {\n",
       "        vertical-align: top;\n",
       "    }\n",
       "\n",
       "    .dataframe thead th {\n",
       "        text-align: right;\n",
       "    }\n",
       "</style>\n",
       "<table border=\"1\" class=\"dataframe\">\n",
       "  <thead>\n",
       "    <tr style=\"text-align: right;\">\n",
       "      <th></th>\n",
       "      <th>Rarity</th>\n",
       "      <th>Name</th>\n",
       "      <th>Mana Cost</th>\n",
       "      <th>Converted Mana Cost</th>\n",
       "      <th>Type Line</th>\n",
       "      <th>USD Price</th>\n",
       "      <th>USD Foil Price</th>\n",
       "    </tr>\n",
       "    <tr>\n",
       "      <th>set</th>\n",
       "      <th></th>\n",
       "      <th></th>\n",
       "      <th></th>\n",
       "      <th></th>\n",
       "      <th></th>\n",
       "      <th></th>\n",
       "      <th></th>\n",
       "    </tr>\n",
       "  </thead>\n",
       "  <tbody>\n",
       "    <tr>\n",
       "      <th>DOM</th>\n",
       "      <td>M</td>\n",
       "      <td>Teferi, Hero of Dominaria</td>\n",
       "      <td>{3}{W}{U}</td>\n",
       "      <td>5.0</td>\n",
       "      <td>Legendary Planeswalker — Teferi</td>\n",
       "      <td>37.28</td>\n",
       "      <td>83.00</td>\n",
       "    </tr>\n",
       "    <tr>\n",
       "      <th>WAR</th>\n",
       "      <td>M</td>\n",
       "      <td>Liliana, Dreadhorde General</td>\n",
       "      <td>{4}{B}{B}</td>\n",
       "      <td>6.0</td>\n",
       "      <td>Legendary Planeswalker — Liliana</td>\n",
       "      <td>27.29</td>\n",
       "      <td>54.99</td>\n",
       "    </tr>\n",
       "    <tr>\n",
       "      <th>M19</th>\n",
       "      <td>M</td>\n",
       "      <td>Nicol Bolas, the Ravager // Nicol Bolas, the A...</td>\n",
       "      <td>{1}{U}{B}{R}</td>\n",
       "      <td>4.0</td>\n",
       "      <td>Legendary Creature — Elder Dragon // Legendary...</td>\n",
       "      <td>26.58</td>\n",
       "      <td>52.60</td>\n",
       "    </tr>\n",
       "    <tr>\n",
       "      <th>WAR</th>\n",
       "      <td>M</td>\n",
       "      <td>Nicol Bolas, Dragon-God</td>\n",
       "      <td>{U}{B}{B}{B}{R}</td>\n",
       "      <td>5.0</td>\n",
       "      <td>Legendary Planeswalker — Bolas</td>\n",
       "      <td>23.79</td>\n",
       "      <td>62.97</td>\n",
       "    </tr>\n",
       "    <tr>\n",
       "      <th>RIX</th>\n",
       "      <td>M</td>\n",
       "      <td>The Immortal Sun</td>\n",
       "      <td>{6}</td>\n",
       "      <td>6.0</td>\n",
       "      <td>Legendary Artifact</td>\n",
       "      <td>22.28</td>\n",
       "      <td>42.25</td>\n",
       "    </tr>\n",
       "    <tr>\n",
       "      <th>M19</th>\n",
       "      <td>M</td>\n",
       "      <td>Nexus of Fate</td>\n",
       "      <td>{5}{U}{U}</td>\n",
       "      <td>7.0</td>\n",
       "      <td>Instant</td>\n",
       "      <td>NaN</td>\n",
       "      <td>19.25</td>\n",
       "    </tr>\n",
       "    <tr>\n",
       "      <th>WAR</th>\n",
       "      <td>M</td>\n",
       "      <td>God-Eternal Kefnet</td>\n",
       "      <td>{2}{U}{U}</td>\n",
       "      <td>4.0</td>\n",
       "      <td>Legendary Creature — Zombie God</td>\n",
       "      <td>17.95</td>\n",
       "      <td>31.55</td>\n",
       "    </tr>\n",
       "    <tr>\n",
       "      <th>RNA</th>\n",
       "      <td>M</td>\n",
       "      <td>Hydroid Krasis</td>\n",
       "      <td>{X}{G}{U}</td>\n",
       "      <td>2.0</td>\n",
       "      <td>Creature — Jellyfish Hydra Beast</td>\n",
       "      <td>17.62</td>\n",
       "      <td>30.05</td>\n",
       "    </tr>\n",
       "    <tr>\n",
       "      <th>DOM</th>\n",
       "      <td>M</td>\n",
       "      <td>Karn, Scion of Urza</td>\n",
       "      <td>{4}</td>\n",
       "      <td>4.0</td>\n",
       "      <td>Legendary Planeswalker — Karn</td>\n",
       "      <td>17.37</td>\n",
       "      <td>39.11</td>\n",
       "    </tr>\n",
       "    <tr>\n",
       "      <th>M19</th>\n",
       "      <td>M</td>\n",
       "      <td>Crucible of Worlds</td>\n",
       "      <td>{3}</td>\n",
       "      <td>3.0</td>\n",
       "      <td>Artifact</td>\n",
       "      <td>16.60</td>\n",
       "      <td>25.63</td>\n",
       "    </tr>\n",
       "  </tbody>\n",
       "</table>\n",
       "</div>"
      ],
      "text/plain": [
       "    Rarity                                               Name  \\\n",
       "set                                                             \n",
       "DOM      M                          Teferi, Hero of Dominaria   \n",
       "WAR      M                        Liliana, Dreadhorde General   \n",
       "M19      M  Nicol Bolas, the Ravager // Nicol Bolas, the A...   \n",
       "WAR      M                            Nicol Bolas, Dragon-God   \n",
       "RIX      M                                   The Immortal Sun   \n",
       "M19      M                                      Nexus of Fate   \n",
       "WAR      M                                 God-Eternal Kefnet   \n",
       "RNA      M                                     Hydroid Krasis   \n",
       "DOM      M                                Karn, Scion of Urza   \n",
       "M19      M                                 Crucible of Worlds   \n",
       "\n",
       "           Mana Cost  Converted Mana Cost  \\\n",
       "set                                         \n",
       "DOM        {3}{W}{U}                  5.0   \n",
       "WAR        {4}{B}{B}                  6.0   \n",
       "M19     {1}{U}{B}{R}                  4.0   \n",
       "WAR  {U}{B}{B}{B}{R}                  5.0   \n",
       "RIX              {6}                  6.0   \n",
       "M19        {5}{U}{U}                  7.0   \n",
       "WAR        {2}{U}{U}                  4.0   \n",
       "RNA        {X}{G}{U}                  2.0   \n",
       "DOM              {4}                  4.0   \n",
       "M19              {3}                  3.0   \n",
       "\n",
       "                                             Type Line  USD Price  \\\n",
       "set                                                                 \n",
       "DOM                    Legendary Planeswalker — Teferi      37.28   \n",
       "WAR                   Legendary Planeswalker — Liliana      27.29   \n",
       "M19  Legendary Creature — Elder Dragon // Legendary...      26.58   \n",
       "WAR                     Legendary Planeswalker — Bolas      23.79   \n",
       "RIX                                 Legendary Artifact      22.28   \n",
       "M19                                            Instant        NaN   \n",
       "WAR                    Legendary Creature — Zombie God      17.95   \n",
       "RNA                   Creature — Jellyfish Hydra Beast      17.62   \n",
       "DOM                      Legendary Planeswalker — Karn      17.37   \n",
       "M19                                           Artifact      16.60   \n",
       "\n",
       "     USD Foil Price  \n",
       "set                  \n",
       "DOM           83.00  \n",
       "WAR           54.99  \n",
       "M19           52.60  \n",
       "WAR           62.97  \n",
       "RIX           42.25  \n",
       "M19           19.25  \n",
       "WAR           31.55  \n",
       "RNA           30.05  \n",
       "DOM           39.11  \n",
       "M19           25.63  "
      ]
     },
     "execution_count": 4,
     "metadata": {},
     "output_type": "execute_result"
    }
   ],
   "source": [
    "df1.sort_values('USD Price', ascending=False)\n",
    "df1[0:10]"
   ]
  },
  {
   "cell_type": "markdown",
   "metadata": {},
   "source": [
    "### Analysis:\n",
    "\n",
    "   While looking at this data might seem like gibberish to someone who is not familiar with Magic the Gathering, it is pretty simple to understand. Every card in Magic has a couple of attributes; a name, rarity level, type, set that it was printed in, mana cost, and effect text. Most of these are self explanatory. Looking at the above data, we can see a large trend of 'Legendary Planeswalker' cards in the top 10, with 4 of them sharing that type. These are very powerful cards in the game; most of them cost a lot of mana to play so it takes a bit of time to play them, but when they come out they can easily swing the game in your favor. It makes sense that they would currently be among the most expensive cards, especially due to the release of the new set War of the Spark (WAR), which introduced 36 total new Planeswalkers. This has never been done before, and it is going to have a lasting effect on the standard meta-game and secondary market for months to come. I expect to see cards from WAR decrease in value slightly before leveling out, as they are still brand new cards that will become more easily avaliable as time goes on.\n",
    "\n",
    "   - An important thing to note is that the cards in standard will tend to fluctuate in value the most compared to other formats. Standard is always changing and adapting, as some cards become obsolete and others are discovered to be stronger than they once were. I expect this list to frequently change if I were to look at it in a week or so.\n",
    "   \n",
    "   - Another thing to note about these cards are that they are all Mythic rarity. Mythic rare cards are the hardest to come by, as they only have a small perecentage of being opened in a booster pack. This definitely has a part in the high value of these cards.\n",
    "   \n",
    "   - Note: Nexus of Fate only has a foil variant because it was a promotional card for the Magic Core Set 2019."
   ]
  },
  {
   "cell_type": "markdown",
   "metadata": {},
   "source": [
    "### Top 10 Commander Cards:"
   ]
  },
  {
   "cell_type": "markdown",
   "metadata": {},
   "source": [
    "Commander is a completely different format than Standard. Anywhere from 2+ players can be in a game at anytime. Each player builds a 99 card deck, with 1 card designated as the 'commander' of the deck. The commander must be a legendary creature, and it is always able to be played instead of being shuffled into your deck. Most cards in Magic the Gathering history are commander legal, so here is the top 10:"
   ]
  },
  {
   "cell_type": "code",
   "execution_count": 5,
   "metadata": {},
   "outputs": [
    {
     "data": {
      "text/html": [
       "<div>\n",
       "<style scoped>\n",
       "    .dataframe tbody tr th:only-of-type {\n",
       "        vertical-align: middle;\n",
       "    }\n",
       "\n",
       "    .dataframe tbody tr th {\n",
       "        vertical-align: top;\n",
       "    }\n",
       "\n",
       "    .dataframe thead th {\n",
       "        text-align: right;\n",
       "    }\n",
       "</style>\n",
       "<table border=\"1\" class=\"dataframe\">\n",
       "  <thead>\n",
       "    <tr style=\"text-align: right;\">\n",
       "      <th></th>\n",
       "      <th>Rarity</th>\n",
       "      <th>Name</th>\n",
       "      <th>Mana Cost</th>\n",
       "      <th>Converted Mana Cost</th>\n",
       "      <th>Type Line</th>\n",
       "      <th>USD Price</th>\n",
       "      <th>USD Foil Price</th>\n",
       "    </tr>\n",
       "    <tr>\n",
       "      <th>set</th>\n",
       "      <th></th>\n",
       "      <th></th>\n",
       "      <th></th>\n",
       "      <th></th>\n",
       "      <th></th>\n",
       "      <th></th>\n",
       "      <th></th>\n",
       "    </tr>\n",
       "  </thead>\n",
       "  <tbody>\n",
       "    <tr>\n",
       "      <th>LEG</th>\n",
       "      <td>R</td>\n",
       "      <td>The Tabernacle at Pendrell Vale</td>\n",
       "      <td>NaN</td>\n",
       "      <td>0.0</td>\n",
       "      <td>Legendary Land</td>\n",
       "      <td>1592.65</td>\n",
       "      <td>NaN</td>\n",
       "    </tr>\n",
       "    <tr>\n",
       "      <th>ATQ</th>\n",
       "      <td>R</td>\n",
       "      <td>Mishra's Workshop</td>\n",
       "      <td>NaN</td>\n",
       "      <td>0.0</td>\n",
       "      <td>Land</td>\n",
       "      <td>1500.00</td>\n",
       "      <td>NaN</td>\n",
       "    </tr>\n",
       "    <tr>\n",
       "      <th>LEB</th>\n",
       "      <td>R</td>\n",
       "      <td>Timetwister</td>\n",
       "      <td>{2}{U}</td>\n",
       "      <td>3.0</td>\n",
       "      <td>Sorcery</td>\n",
       "      <td>1483.85</td>\n",
       "      <td>NaN</td>\n",
       "    </tr>\n",
       "    <tr>\n",
       "      <th>ARN</th>\n",
       "      <td>U</td>\n",
       "      <td>Bazaar of Baghdad</td>\n",
       "      <td>NaN</td>\n",
       "      <td>0.0</td>\n",
       "      <td>Land</td>\n",
       "      <td>1399.99</td>\n",
       "      <td>NaN</td>\n",
       "    </tr>\n",
       "    <tr>\n",
       "      <th>ARN</th>\n",
       "      <td>R</td>\n",
       "      <td>Juzám Djinn</td>\n",
       "      <td>{2}{B}{B}</td>\n",
       "      <td>4.0</td>\n",
       "      <td>Creature — Djinn</td>\n",
       "      <td>1250.00</td>\n",
       "      <td>NaN</td>\n",
       "    </tr>\n",
       "    <tr>\n",
       "      <th>LEG</th>\n",
       "      <td>R</td>\n",
       "      <td>The Abyss</td>\n",
       "      <td>{3}{B}</td>\n",
       "      <td>4.0</td>\n",
       "      <td>World Enchantment</td>\n",
       "      <td>1200.00</td>\n",
       "      <td>NaN</td>\n",
       "    </tr>\n",
       "    <tr>\n",
       "      <th>ATQ</th>\n",
       "      <td>R</td>\n",
       "      <td>Candelabra of Tawnos</td>\n",
       "      <td>{1}</td>\n",
       "      <td>1.0</td>\n",
       "      <td>Artifact</td>\n",
       "      <td>799.99</td>\n",
       "      <td>NaN</td>\n",
       "    </tr>\n",
       "    <tr>\n",
       "      <th>LEG</th>\n",
       "      <td>R</td>\n",
       "      <td>Moat</td>\n",
       "      <td>{2}{W}{W}</td>\n",
       "      <td>4.0</td>\n",
       "      <td>Enchantment</td>\n",
       "      <td>774.99</td>\n",
       "      <td>NaN</td>\n",
       "    </tr>\n",
       "    <tr>\n",
       "      <th>LEG</th>\n",
       "      <td>R</td>\n",
       "      <td>Chains of Mephistopheles</td>\n",
       "      <td>{1}{B}</td>\n",
       "      <td>2.0</td>\n",
       "      <td>Enchantment</td>\n",
       "      <td>742.24</td>\n",
       "      <td>NaN</td>\n",
       "    </tr>\n",
       "    <tr>\n",
       "      <th>2ED</th>\n",
       "      <td>R</td>\n",
       "      <td>Underground Sea</td>\n",
       "      <td>NaN</td>\n",
       "      <td>0.0</td>\n",
       "      <td>Land — Island Swamp</td>\n",
       "      <td>502.48</td>\n",
       "      <td>NaN</td>\n",
       "    </tr>\n",
       "  </tbody>\n",
       "</table>\n",
       "</div>"
      ],
      "text/plain": [
       "    Rarity                             Name  Mana Cost  Converted Mana Cost  \\\n",
       "set                                                                           \n",
       "LEG      R  The Tabernacle at Pendrell Vale        NaN                  0.0   \n",
       "ATQ      R                Mishra's Workshop        NaN                  0.0   \n",
       "LEB      R                      Timetwister     {2}{U}                  3.0   \n",
       "ARN      U                Bazaar of Baghdad        NaN                  0.0   \n",
       "ARN      R                      Juzám Djinn  {2}{B}{B}                  4.0   \n",
       "LEG      R                        The Abyss     {3}{B}                  4.0   \n",
       "ATQ      R             Candelabra of Tawnos        {1}                  1.0   \n",
       "LEG      R                             Moat  {2}{W}{W}                  4.0   \n",
       "LEG      R         Chains of Mephistopheles     {1}{B}                  2.0   \n",
       "2ED      R                  Underground Sea        NaN                  0.0   \n",
       "\n",
       "               Type Line  USD Price  USD Foil Price  \n",
       "set                                                  \n",
       "LEG       Legendary Land    1592.65             NaN  \n",
       "ATQ                 Land    1500.00             NaN  \n",
       "LEB              Sorcery    1483.85             NaN  \n",
       "ARN                 Land    1399.99             NaN  \n",
       "ARN     Creature — Djinn    1250.00             NaN  \n",
       "LEG    World Enchantment    1200.00             NaN  \n",
       "ATQ             Artifact     799.99             NaN  \n",
       "LEG          Enchantment     774.99             NaN  \n",
       "LEG          Enchantment     742.24             NaN  \n",
       "2ED  Land — Island Swamp     502.48             NaN  "
      ]
     },
     "execution_count": 5,
     "metadata": {},
     "output_type": "execute_result"
    }
   ],
   "source": [
    "df2.sort_values('USD Price', ascending=False)\n",
    "df2[0:10]"
   ]
  },
  {
   "cell_type": "markdown",
   "metadata": {},
   "source": [
    "### Analysis:\n",
    "\n",
    "- As you can see, this list includes cards that are exponentially more expensive currently than those in Standard. Many of these cards are vintage-style Magic cards that were printed 20+ years ago. \n",
    "- These cards hold enormous value to players who can afford them, as they are a part of Magic history and will most likely not be reprinted in future sets. \n",
    "- 4 of these cards are lands, that after some research on my part, have some broken effects that give players who have these cards way more advantage on winning the game than those who do not. That factor combined with the vintage quality of the cards is why they are so expensive, and I expect them to hold this value for years to come."
   ]
  },
  {
   "cell_type": "markdown",
   "metadata": {},
   "source": [
    "### Top 10 Modern Cards:"
   ]
  },
  {
   "cell_type": "markdown",
   "metadata": {},
   "source": [
    "Modern is sort of a middle-ground in terms of playable cards between Standard and Commander. It includes every set after and including Mirrodin which was printed in 2003. This leaves some of the more vintage cards out, but there is still a ton of value in Modern. The play style is similar to Standard; 1 on 1, 60 card decks. Here are the most expensive cards in the format as of 5/6/2019:"
   ]
  },
  {
   "cell_type": "code",
   "execution_count": 6,
   "metadata": {},
   "outputs": [
    {
     "data": {
      "text/html": [
       "<div>\n",
       "<style scoped>\n",
       "    .dataframe tbody tr th:only-of-type {\n",
       "        vertical-align: middle;\n",
       "    }\n",
       "\n",
       "    .dataframe tbody tr th {\n",
       "        vertical-align: top;\n",
       "    }\n",
       "\n",
       "    .dataframe thead th {\n",
       "        text-align: right;\n",
       "    }\n",
       "</style>\n",
       "<table border=\"1\" class=\"dataframe\">\n",
       "  <thead>\n",
       "    <tr style=\"text-align: right;\">\n",
       "      <th></th>\n",
       "      <th>Rarity</th>\n",
       "      <th>Name</th>\n",
       "      <th>Mana Cost</th>\n",
       "      <th>Converted Mana Cost</th>\n",
       "      <th>Type Line</th>\n",
       "      <th>USD Price</th>\n",
       "      <th>USD Foil Price</th>\n",
       "    </tr>\n",
       "    <tr>\n",
       "      <th>set</th>\n",
       "      <th></th>\n",
       "      <th></th>\n",
       "      <th></th>\n",
       "      <th></th>\n",
       "      <th></th>\n",
       "      <th></th>\n",
       "      <th></th>\n",
       "    </tr>\n",
       "  </thead>\n",
       "  <tbody>\n",
       "    <tr>\n",
       "      <th>EMA</th>\n",
       "      <td>M</td>\n",
       "      <td>Jace, the Mind Sculptor</td>\n",
       "      <td>{2}{U}{U}</td>\n",
       "      <td>4.0</td>\n",
       "      <td>Legendary Planeswalker — Jace</td>\n",
       "      <td>113.77</td>\n",
       "      <td>170.52</td>\n",
       "    </tr>\n",
       "    <tr>\n",
       "      <th>MM3</th>\n",
       "      <td>R</td>\n",
       "      <td>Scalding Tarn</td>\n",
       "      <td>NaN</td>\n",
       "      <td>0.0</td>\n",
       "      <td>Land</td>\n",
       "      <td>93.22</td>\n",
       "      <td>124.15</td>\n",
       "    </tr>\n",
       "    <tr>\n",
       "      <th>MM2</th>\n",
       "      <td>M</td>\n",
       "      <td>Mox Opal</td>\n",
       "      <td>{0}</td>\n",
       "      <td>0.0</td>\n",
       "      <td>Legendary Artifact</td>\n",
       "      <td>88.73</td>\n",
       "      <td>107.41</td>\n",
       "    </tr>\n",
       "    <tr>\n",
       "      <th>MM3</th>\n",
       "      <td>M</td>\n",
       "      <td>Liliana of the Veil</td>\n",
       "      <td>{1}{B}{B}</td>\n",
       "      <td>3.0</td>\n",
       "      <td>Legendary Planeswalker — Liliana</td>\n",
       "      <td>74.88</td>\n",
       "      <td>121.75</td>\n",
       "    </tr>\n",
       "    <tr>\n",
       "      <th>ZEN</th>\n",
       "      <td>R</td>\n",
       "      <td>Verdant Catacombs</td>\n",
       "      <td>NaN</td>\n",
       "      <td>0.0</td>\n",
       "      <td>Land</td>\n",
       "      <td>71.74</td>\n",
       "      <td>135.09</td>\n",
       "    </tr>\n",
       "    <tr>\n",
       "      <th>FRF</th>\n",
       "      <td>M</td>\n",
       "      <td>Ugin, the Spirit Dragon</td>\n",
       "      <td>{8}</td>\n",
       "      <td>8.0</td>\n",
       "      <td>Legendary Planeswalker — Ugin</td>\n",
       "      <td>69.31</td>\n",
       "      <td>155.27</td>\n",
       "    </tr>\n",
       "    <tr>\n",
       "      <th>MMA</th>\n",
       "      <td>M</td>\n",
       "      <td>Dark Confidant</td>\n",
       "      <td>{1}{B}</td>\n",
       "      <td>2.0</td>\n",
       "      <td>Creature — Human Wizard</td>\n",
       "      <td>69.15</td>\n",
       "      <td>81.14</td>\n",
       "    </tr>\n",
       "    <tr>\n",
       "      <th>MM3</th>\n",
       "      <td>R</td>\n",
       "      <td>Misty Rainforest</td>\n",
       "      <td>NaN</td>\n",
       "      <td>0.0</td>\n",
       "      <td>Land</td>\n",
       "      <td>68.55</td>\n",
       "      <td>90.02</td>\n",
       "    </tr>\n",
       "    <tr>\n",
       "      <th>MBS</th>\n",
       "      <td>M</td>\n",
       "      <td>Blightsteel Colossus</td>\n",
       "      <td>{12}</td>\n",
       "      <td>12.0</td>\n",
       "      <td>Artifact Creature — Golem</td>\n",
       "      <td>62.85</td>\n",
       "      <td>144.08</td>\n",
       "    </tr>\n",
       "    <tr>\n",
       "      <th>IMA</th>\n",
       "      <td>R</td>\n",
       "      <td>Horizon Canopy</td>\n",
       "      <td>NaN</td>\n",
       "      <td>0.0</td>\n",
       "      <td>Land</td>\n",
       "      <td>61.67</td>\n",
       "      <td>76.18</td>\n",
       "    </tr>\n",
       "  </tbody>\n",
       "</table>\n",
       "</div>"
      ],
      "text/plain": [
       "    Rarity                     Name  Mana Cost  Converted Mana Cost  \\\n",
       "set                                                                   \n",
       "EMA      M  Jace, the Mind Sculptor  {2}{U}{U}                  4.0   \n",
       "MM3      R            Scalding Tarn        NaN                  0.0   \n",
       "MM2      M                 Mox Opal        {0}                  0.0   \n",
       "MM3      M      Liliana of the Veil  {1}{B}{B}                  3.0   \n",
       "ZEN      R        Verdant Catacombs        NaN                  0.0   \n",
       "FRF      M  Ugin, the Spirit Dragon        {8}                  8.0   \n",
       "MMA      M           Dark Confidant     {1}{B}                  2.0   \n",
       "MM3      R         Misty Rainforest        NaN                  0.0   \n",
       "MBS      M     Blightsteel Colossus       {12}                 12.0   \n",
       "IMA      R           Horizon Canopy        NaN                  0.0   \n",
       "\n",
       "                            Type Line  USD Price  USD Foil Price  \n",
       "set                                                               \n",
       "EMA     Legendary Planeswalker — Jace     113.77          170.52  \n",
       "MM3                              Land      93.22          124.15  \n",
       "MM2                Legendary Artifact      88.73          107.41  \n",
       "MM3  Legendary Planeswalker — Liliana      74.88          121.75  \n",
       "ZEN                              Land      71.74          135.09  \n",
       "FRF     Legendary Planeswalker — Ugin      69.31          155.27  \n",
       "MMA           Creature — Human Wizard      69.15           81.14  \n",
       "MM3                              Land      68.55           90.02  \n",
       "MBS         Artifact Creature — Golem      62.85          144.08  \n",
       "IMA                              Land      61.67           76.18  "
      ]
     },
     "execution_count": 6,
     "metadata": {},
     "output_type": "execute_result"
    }
   ],
   "source": [
    "df3.sort_values('USD Price', ascending=False)\n",
    "df3[0:10]"
   ]
  },
  {
   "cell_type": "markdown",
   "metadata": {},
   "source": [
    "### Analysis:\n",
    "\n",
    "- It seems prices are a lot lower than the cards legal in commander because none of these are vintage cards.\n",
    "- 4 lands again. Many lands are in all 3 of these top 10 lists because they are versatile cards, essential to most competitive decks.\n",
    "- 3 planeswalkers. Jace, Ugin, and Liliana are notoriously powerful cards in all formats that they are legal in. These cards will hold value for many years.\n",
    "- Note the set types; any 'MM' set is a Masters set, which are always full of reprints of older cards that are popular. These cards take up much of this top 10 list, because they are powerful cards that are sought after.\n",
    "- Also note: land cards do not have a mana cost. One land can be played each turn, and can then be used to produce mana of different colors."
   ]
  },
  {
   "cell_type": "markdown",
   "metadata": {},
   "source": [
    "### Graphing:\n",
    "\n",
    "In order to see more easily how the prices of these cards stack up against each other, we can graph them side by side and compare:"
   ]
  },
  {
   "cell_type": "markdown",
   "metadata": {},
   "source": [
    "### Join the top 10 list from each DataFrame into one larger DF using pd.concat. Delete extraneous columns."
   ]
  },
  {
   "cell_type": "code",
   "execution_count": 7,
   "metadata": {},
   "outputs": [],
   "source": [
    "graphDF1 = df1[0:10]\n",
    "graphDF2 = df2[0:10]\n",
    "graphDF3 = df3[0:10]\n",
    "\n",
    "frames = [graphDF1,graphDF2,graphDF3]\n",
    "result = pd.concat(frames)\n",
    "\n",
    "del result['Converted Mana Cost']\n",
    "del result['USD Foil Price']\n",
    "\n",
    "frames2 = [graphDF1, graphDF3]\n",
    "result2 = pd.concat(frames2)\n",
    "\n",
    "del result2['Converted Mana Cost']\n",
    "del result2['USD Foil Price']"
   ]
  },
  {
   "cell_type": "markdown",
   "metadata": {},
   "source": [
    "### Graph each card's name and price on a bar chart side by side to compare."
   ]
  },
  {
   "cell_type": "code",
   "execution_count": 8,
   "metadata": {
    "scrolled": false
   },
   "outputs": [
    {
     "data": {
      "image/png": "[encoded data removed]",
      "text/plain": [
       "<Figure size 792x792 with 1 Axes>"
      ]
     },
     "metadata": {
      "needs_background": "light"
     },
     "output_type": "display_data"
    }
   ],
   "source": [
    "result.plot.barh(x='Name', y='USD Price', stacked=True, title = 'Current Card Prices ($) in May 2019 (Modern, Commander, Standard)', figsize = (11,11), legend = False, colormap = 'Paired');"
   ]
  },
  {
   "cell_type": "markdown",
   "metadata": {},
   "source": [
    "### Analysis:\n",
    "\n",
    "- This is a bit easier to look at than the tables, it allows visualization of exactly how much the prices differ between the cards. The top cards from Commander, the middle 10 bars, are far more expensive than the ones from Standard and Modern.\n",
    "- These are not the foil prices, so as you can see Nexus of Fate again does not have a price for a normal print."
   ]
  },
  {
   "cell_type": "markdown",
   "metadata": {},
   "source": [
    "### Standard vs. Modern Top 10:\n",
    "\n",
    "All of the Commander card prices make it hard to compare Standard and Modern side by side, so here is another graph depicting just the prices of the top 10 cards from Standard and Modern:"
   ]
  },
  {
   "cell_type": "code",
   "execution_count": 9,
   "metadata": {},
   "outputs": [
    {
     "data": {
      "image/png": "[encoded data removed]",
      "text/plain": [
       "<Figure size 864x864 with 1 Axes>"
      ]
     },
     "metadata": {
      "needs_background": "light"
     },
     "output_type": "display_data"
    }
   ],
   "source": [
    "result2.plot.barh(x='Name', y='USD Price', stacked=True, title = 'Current Card Prices ($) in May 2019 (Modern, Standard)', figsize = (12,12), legend = False, colormap = 'Paired');"
   ]
  },
  {
   "cell_type": "markdown",
   "metadata": {},
   "source": [
    "- These cards are closer in value, but with this closer up view it is easy to see that all of the cards from Modern (the top 10) are more expensive than any of the cards in Standard."
   ]
  },
  {
   "cell_type": "markdown",
   "metadata": {},
   "source": [
    "### Question: Does the card type have any effect on overall price?"
   ]
  },
  {
   "cell_type": "markdown",
   "metadata": {},
   "source": [
    "- From the above tables and graphs, we can assume that the rarity of a card and its format legality have a large influence on the price of a card. \n",
    "- However, does the card type have any influence on price? We can expand our datasets to further look at this:"
   ]
  },
  {
   "cell_type": "markdown",
   "metadata": {},
   "source": [
    "### Take the top 100 cards from each format as the sample. Next, we group the data by 'Type Line' in order to get a count for each type."
   ]
  },
  {
   "cell_type": "markdown",
   "metadata": {},
   "source": [
    "- ***Note about the data***\n",
    "    - The same .csv files used above will be used in this next set of data groups. However, copies were made of each csv file in order to preserve the above data. I manually edited the 'Type Line' to contain one word (either Planeswalker, Artifact, Creature, Land, Enchantment, Instant, or Sorcery) in order to be able to groupby the data more efficiently without having extraneous text barring us from displaying the data this way. We will also be looking at the top 100 expensive cards in each format instead of the top 10 only."
   ]
  },
  {
   "cell_type": "markdown",
   "metadata": {},
   "source": [
    "### Grab data from modified .csv files, erase extra data to only keep the top 100 cards from each data frame. Then, use the .groupby function to get the counts for each card type in the data set. Then graph the data categorically by the 'Type Line'."
   ]
  },
  {
   "cell_type": "code",
   "execution_count": 10,
   "metadata": {
    "scrolled": false
   },
   "outputs": [],
   "source": [
    "top100S = pd.read_csv('top_standard(2).csv')\n",
    "top100S = top100S[0:100]\n",
    "top100S = top100S.groupby('Type Line').count()\n",
    "top100C = pd.read_csv('top_commander(2).csv')\n",
    "top100C = top100C[0:100]\n",
    "top100C = top100C.groupby('Type Line').count()\n",
    "top100M = pd.read_csv('top_modern(2).csv')\n",
    "top100M = top100M[0:100]\n",
    "top100M = top100M.groupby('Type Line').count()"
   ]
  },
  {
   "cell_type": "code",
   "execution_count": 11,
   "metadata": {
    "scrolled": false
   },
   "outputs": [
    {
     "data": {
      "image/png": "[encoded data removed]",
      "text/plain": [
       "<Figure size 432x288 with 1 Axes>"
      ]
     },
     "metadata": {},
     "output_type": "display_data"
    }
   ],
   "source": [
    "plt.pie(top100S['Name'], labels = top100S.index, autopct='%1.1f%%')\n",
    "plt.title('% of Each Card Type in the Top 100 Cards (Standard)');"
   ]
  },
  {
   "cell_type": "code",
   "execution_count": 12,
   "metadata": {},
   "outputs": [
    {
     "data": {
      "image/png": "[encoded data removed]",
      "text/plain": [
       "<Figure size 432x288 with 1 Axes>"
      ]
     },
     "metadata": {},
     "output_type": "display_data"
    }
   ],
   "source": [
    "plt.pie(top100C['Name'], labels = top100C.index, autopct='%1.1f%%')\n",
    "plt.title('% of Each Card Type in the Top 100 Cards (Commander)');"
   ]
  },
  {
   "cell_type": "code",
   "execution_count": 13,
   "metadata": {},
   "outputs": [
    {
     "data": {
      "image/png": "[encoded data removed]",
      "text/plain": [
       "<Figure size 432x288 with 1 Axes>"
      ]
     },
     "metadata": {},
     "output_type": "display_data"
    }
   ],
   "source": [
    "plt.pie(top100M['Name'], labels = top100M.index, autopct='%1.1f%%')\n",
    "plt.title('% of Each Card Type in the Top 100 Cards (Modern)');"
   ]
  },
  {
   "cell_type": "markdown",
   "metadata": {},
   "source": [
    "### Analysis:\n",
    "\n",
    "- By looking at these 3 pie charts, it seems that there is a very similar distribution of card types in the Top 100 across all 3 formats.\n",
    "- Creatures are the most prevalent expensive cards in all formats, which is expected. The most popular way of playing the game is with creatures, so I expected them to have the highest frequency.\n",
    "- In Standard, Planeswalkers are the second highest frequency. This is expected at this particular point in time with War of the Spark re-popularizing Planeswalkers as viable cards. I expect this number to drop quickly as time goes on. A small number of PW's are currently in Modern and Commander, contrastly.\n",
    "- Lands also take up about 1/4 of each format's top cards. This is fitting, as the average deck is about 30-40% land in any format. Without lands, there are no ways to play spells, so having plenty of versatile, useful land cards makes a deck more competitively viable.\n",
    "- Instant and Sorcery cards take up lower percentages of the expensive cards. While they are good inclusions in almost any deck, they are usually only playable one time and they don't always have a lasting effect on the game. Most of them have an immediate, good effect, and then that's it. This may be why they are generally cheaper cards."
   ]
  },
  {
   "cell_type": "markdown",
   "metadata": {},
   "source": [
    "###  Conclusion:\n",
    "\n",
    "There are a number of conclusions I can make about the singles market at the moment based on this data:\n",
    "\n",
    "- Standard is currently the cheapest format to play in with good cards. Their top cards are cheaper than most good cards in Commander and Modern.\n",
    "    - There are currently only 7 sets that are standard legal. These are the 7 newest sets, and are all still being printed by Wizards of the Coast, so it makes sense for these cards to be cheaper.\n",
    "- Commander has some of the most expensive Magic cards ever printed. This is mainly because Commander legal cards include the widest variety of sets, including vintage sets where card prices are astronomical.\n",
    "- Modern is the middle ground between Commander as the ceiling and Standard as the floor. Cards in Modern will ultimately be more expensive than Standard, however.\n",
    "    - I think the main reason for this is print availability. While cards in Standard may be as good as some of the cards in Modern, the Modern cards are not being printed anymore and therefore have a higher demand and market value.\n",
    "- Card type does seem to have a marginally small effect on the price of a card. Creature cards are large portions of the top 100 expensive cards in each format; I believe this mainly is due to the fact that creature cards are the most common spells in Magic, and there is a good chance that a lot of creatures will be among the best cards. \n",
    "- There are land cards, for example, from the Commander legal list that are exponentially more expensive than any of the other cards in the other formats. Commander prices are largely affected by the price of older, more vintage cards, which are collector's items and very expensive.\n",
    "- Rarity does play a part in a card's value; mythic rare cards make up the majority of these lists, followed by rares and then a select few uncommons and commons."
   ]
  }
 ],
 "metadata": {
  "kernelspec": {
   "display_name": "Python 3",
   "language": "python",
   "name": "python3"
  },
  "language_info": {
   "codemirror_mode": {
    "name": "ipython",
    "version": 3
   },
   "file_extension": ".py",
   "mimetype": "text/x-python",
   "name": "python",
   "nbconvert_exporter": "python",
   "pygments_lexer": "ipython3",
   "version": "3.7.1"
  }
 },
 "nbformat": 4,
 "nbformat_minor": 2
}
